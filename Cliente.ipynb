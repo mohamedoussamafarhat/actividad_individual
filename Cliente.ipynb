{
 "cells": [
  {
   "cell_type": "code",
   "execution_count": 2,
   "id": "24a9e425-417a-4153-8cc9-304f4d39eb3b",
   "metadata": {},
   "outputs": [
    {
     "name": "stdin",
     "output_type": "stream",
     "text": [
      "Introduce tu direccion ip:  169.254.43.58\n",
      "Introduce tu puerto:  50000\n",
      "Nombre de usuario:  moha\n"
     ]
    },
    {
     "ename": "ConnectionRefusedError",
     "evalue": "[WinError 10061] No se puede establecer una conexión ya que el equipo de destino denegó expresamente dicha conexión",
     "output_type": "error",
     "traceback": [
      "\u001b[1;31m---------------------------------------------------------------------------\u001b[0m",
      "\u001b[1;31mConnectionRefusedError\u001b[0m                    Traceback (most recent call last)",
      "\u001b[1;32m<ipython-input-2-7f78879fa0c2>\u001b[0m in \u001b[0;36m<module>\u001b[1;34m\u001b[0m\n\u001b[0;32m     57\u001b[0m \u001b[1;33m\u001b[0m\u001b[0m\n\u001b[0;32m     58\u001b[0m \u001b[1;33m\u001b[0m\u001b[0m\n\u001b[1;32m---> 59\u001b[1;33m \u001b[0mc\u001b[0m \u001b[1;33m=\u001b[0m \u001b[0mCliente\u001b[0m\u001b[1;33m(\u001b[0m\u001b[1;33m)\u001b[0m\u001b[1;33m\u001b[0m\u001b[1;33m\u001b[0m\u001b[0m\n\u001b[0m",
      "\u001b[1;32m<ipython-input-2-7f78879fa0c2>\u001b[0m in \u001b[0;36m__init__\u001b[1;34m(self, host, port, nickname)\u001b[0m\n\u001b[0;32m     14\u001b[0m     \u001b[1;32mdef\u001b[0m \u001b[0m__init__\u001b[0m\u001b[1;33m(\u001b[0m\u001b[0mself\u001b[0m\u001b[1;33m,\u001b[0m\u001b[0mhost\u001b[0m\u001b[1;33m=\u001b[0m\u001b[0msocket\u001b[0m\u001b[1;33m.\u001b[0m\u001b[0mgethostname\u001b[0m\u001b[1;33m(\u001b[0m\u001b[1;33m)\u001b[0m\u001b[1;33m,\u001b[0m \u001b[0mport\u001b[0m\u001b[1;33m=\u001b[0m\u001b[0mport_\u001b[0m\u001b[1;33m,\u001b[0m \u001b[0mnickname\u001b[0m\u001b[1;33m=\u001b[0m\u001b[0mnick\u001b[0m\u001b[1;33m)\u001b[0m\u001b[1;33m:\u001b[0m\u001b[1;33m\u001b[0m\u001b[1;33m\u001b[0m\u001b[0m\n\u001b[0;32m     15\u001b[0m         \u001b[0mself\u001b[0m\u001b[1;33m.\u001b[0m\u001b[0msock\u001b[0m \u001b[1;33m=\u001b[0m \u001b[0msocket\u001b[0m\u001b[1;33m.\u001b[0m\u001b[0msocket\u001b[0m\u001b[1;33m(\u001b[0m\u001b[1;33m)\u001b[0m\u001b[1;33m\u001b[0m\u001b[1;33m\u001b[0m\u001b[0m\n\u001b[1;32m---> 16\u001b[1;33m         \u001b[0mself\u001b[0m\u001b[1;33m.\u001b[0m\u001b[0msock\u001b[0m\u001b[1;33m.\u001b[0m\u001b[0mconnect\u001b[0m\u001b[1;33m(\u001b[0m\u001b[1;33m(\u001b[0m\u001b[0mstr\u001b[0m\u001b[1;33m(\u001b[0m\u001b[0mhost\u001b[0m\u001b[1;33m)\u001b[0m\u001b[1;33m,\u001b[0m \u001b[0mint\u001b[0m\u001b[1;33m(\u001b[0m\u001b[0mport\u001b[0m\u001b[1;33m)\u001b[0m\u001b[1;33m)\u001b[0m\u001b[1;33m)\u001b[0m\u001b[1;33m\u001b[0m\u001b[1;33m\u001b[0m\u001b[0m\n\u001b[0m\u001b[0;32m     17\u001b[0m         \u001b[0mself\u001b[0m\u001b[1;33m.\u001b[0m\u001b[0mnickname\u001b[0m \u001b[1;33m=\u001b[0m \u001b[0mnickname\u001b[0m\u001b[1;33m\u001b[0m\u001b[1;33m\u001b[0m\u001b[0m\n\u001b[0;32m     18\u001b[0m         \u001b[1;32mtry\u001b[0m\u001b[1;33m:\u001b[0m\u001b[1;33m\u001b[0m\u001b[1;33m\u001b[0m\u001b[0m\n",
      "\u001b[1;31mConnectionRefusedError\u001b[0m: [WinError 10061] No se puede establecer una conexión ya que el equipo de destino denegó expresamente dicha conexión"
     ]
    }
   ],
   "source": [
    "import threading\n",
    "import sys\n",
    "import socket\n",
    "import pickle\n",
    "import os\n",
    "\n",
    "class Cliente():\n",
    "    host_ = input(\"Introduce tu direccion ip: \")\n",
    "    port_ = int(input(\"Introduce tu puerto: \"))\n",
    "    nick = input(\"Nombre de usuario: \")\n",
    "\n",
    "    nicks = []\n",
    "\n",
    "    def __init__(self,host=socket.gethostname(), port=port_, nickname=nick):\n",
    "        self.sock = socket.socket()\n",
    "        self.sock.connect((str(host), int(port)))\n",
    "        self.nickname = nickname\n",
    "        try:\n",
    "            hilo_recv_mensaje = threading.Thread(target=self.recibir)\n",
    "            hilo_recv_mensaje.daemon = True\n",
    "            hilo_recv_mensaje.start()\n",
    "            print('Hilo con PID', os.getpid())\n",
    "            print('Hilos activos', threading.active_count())\n",
    "            self.enviarNick(nickname) #envia el nickname al conectarse por primera vez\n",
    "\n",
    "            while True:\n",
    "                msg = input('\\nEscriba texto ? ** Enviar = ENTER ** Abandonar Chat = Q \\n')\n",
    "                try:\n",
    "                    with open(\"u22056511.txt\", \"a+\") as Mensajeescribir:\n",
    "                        Mensajeescribir.write(nickname + \": \" + msg + \"\\n\")\n",
    "                except Exception as e:\n",
    "                    print(\"Error de escritura!\")\n",
    "                    print(e)\n",
    "                if msg != 'Q':\n",
    "                    self.enviar(nickname + \": \" + msg)#funcion para enviar --> nombre: (mensaje)\n",
    "                else:\n",
    "                    print(\" **** TALOGOOO  ****\")\n",
    "                    self.sock.close()\n",
    "                    sys.exit()\n",
    "        except:\n",
    "            raise Exception\n",
    "\n",
    "    def recibir(self):\n",
    "        while True:\n",
    "            try:\n",
    "                data = self.sock.recv(32)\n",
    "                if data:\n",
    "                    print(pickle.loads(data))\n",
    "            except:\n",
    "                pass\n",
    "\n",
    "    def enviar(self, msg):\n",
    "        self.sock.send(pickle.dumps(msg))#envia el mensaje al servidor \n",
    "\n",
    "    def enviarNick(self, nick_):\n",
    "        self.sock.send(pickle.dumps(nick_))#envia los nicks al servidor\n",
    "\n",
    "\n",
    "c = Cliente()"
   ]
  }
 ],
 "metadata": {
  "kernelspec": {
   "display_name": "Python 3",
   "language": "python",
   "name": "python3"
  },
  "language_info": {
   "codemirror_mode": {
    "name": "ipython",
    "version": 3
   },
   "file_extension": ".py",
   "mimetype": "text/x-python",
   "name": "python",
   "nbconvert_exporter": "python",
   "pygments_lexer": "ipython3",
   "version": "3.8.8"
  }
 },
 "nbformat": 4,
 "nbformat_minor": 5
}
